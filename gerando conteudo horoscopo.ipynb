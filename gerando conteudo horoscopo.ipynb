{
 "cells": [
  {
   "cell_type": "code",
   "execution_count": null,
   "id": "d9298e78-206f-4b21-95e8-ab18863526ec",
   "metadata": {},
   "outputs": [],
   "source": [
    "import getpass\n",
    "import os"
   ]
  },
  {
   "cell_type": "code",
   "execution_count": null,
   "id": "1a2730e7-86a7-4e59-b25a-7372521810fc",
   "metadata": {},
   "outputs": [],
   "source": [
    "os.environ[\"LANGCHAIN_TRACING_V2\"] = \"true\"\n",
    "os.environ[\"LANGCHAIN_API_KEY\"] = getpass.getpass()"
   ]
  },
  {
   "cell_type": "code",
   "execution_count": null,
   "id": "7f667138-17a7-44be-b4a4-3b6637a41af7",
   "metadata": {},
   "outputs": [],
   "source": [
    "os.environ[\"OPENAI_API_KEY\"] = getpass.getpass()"
   ]
  },
  {
   "cell_type": "code",
   "execution_count": null,
   "id": "ed4352fe-c554-485b-86e8-af1df0d3ee4a",
   "metadata": {
    "editable": true,
    "slideshow": {
     "slide_type": ""
    },
    "tags": []
   },
   "outputs": [],
   "source": [
    "from langchain_openai import ChatOpenAI\n",
    "\n",
    "llm = ChatOpenAI(model=\"gpt-4\", temperature=.9)"
   ]
  },
  {
   "cell_type": "code",
   "execution_count": null,
   "id": "e476384f-c71f-4635-afde-f75b11bab0c2",
   "metadata": {},
   "outputs": [],
   "source": [
    "__import__('pysqlite3')\n",
    "import sys\n",
    "sys.modules['sqlite3'] = sys.modules.pop('pysqlite3')\n",
    "import chromadb"
   ]
  },
  {
   "cell_type": "code",
   "execution_count": null,
   "id": "9f31634d-e328-4673-a137-fa00ae5a4190",
   "metadata": {
    "editable": true,
    "slideshow": {
     "slide_type": ""
    },
    "tags": []
   },
   "outputs": [],
   "source": [
    "from langchain import hub # langchain smith contendo repositórios de prompts\n",
    "from langchain_chroma import Chroma # base de dados vetorial que pode ser executada localmente\n",
    "from langchain_community.document_loaders.csv_loader import CSVLoader # leitura do arquivo CSV\n",
    "from langchain_core.output_parsers import StrOutputParser # responsável pela saída do modelo\n",
    "from langchain_core.runnables import RunnablePassthrough # garante a integridade das entradas de dados\n",
    "from langchain_openai import OpenAIEmbeddings # embeddins do gpt\n",
    "from langchain_text_splitters import RecursiveCharacterTextSplitter # reparte o conteúdo em vários"
   ]
  },
  {
   "cell_type": "code",
   "execution_count": null,
   "id": "4a348a4a-5a93-4a42-8f65-6988f7ee5495",
   "metadata": {},
   "outputs": [],
   "source": [
    "file_path = (\n",
    "    \"dataset.csv\"\n",
    ")\n",
    "\n",
    "loader = CSVLoader(\n",
    "    file_path=file_path,\n",
    "    csv_args={\n",
    "        \"delimiter\": \";\",\n",
    "        \"quotechar\": '\"',\n",
    "        \"fieldnames\": [\"Signo\", \"Texto \", \"Fonte\"],\n",
    "    },\n",
    ")\n",
    "data = loader.load()"
   ]
  },
  {
   "cell_type": "code",
   "execution_count": null,
   "id": "933e6caf-566e-43f2-a70a-b4c8fb7477ad",
   "metadata": {
    "editable": true,
    "slideshow": {
     "slide_type": ""
    },
    "tags": []
   },
   "outputs": [],
   "source": [
    "text_splitter = RecursiveCharacterTextSplitter(chunk_size=1500, chunk_overlap=150)\n",
    "splits = text_splitter.split_documents(data)\n",
    "vectorstore = Chroma.from_documents(documents=splits, embedding=OpenAIEmbeddings())"
   ]
  },
  {
   "cell_type": "code",
   "execution_count": null,
   "id": "a92d884a-72dc-44f0-a111-d067313fdd6b",
   "metadata": {
    "editable": true,
    "slideshow": {
     "slide_type": ""
    },
    "tags": []
   },
   "outputs": [],
   "source": [
    "retriever = vectorstore.as_retriever()\n",
    "prompt = hub.pull(\"rlm/rag-prompt\")"
   ]
  },
  {
   "cell_type": "code",
   "execution_count": null,
   "id": "e73f18d6-d526-4fbe-9d38-1dfb73ebc286",
   "metadata": {},
   "outputs": [],
   "source": [
    "def format_docs(docs):\n",
    "    return \"\\n\\n\".join(doc.page_content for doc in docs)"
   ]
  },
  {
   "cell_type": "code",
   "execution_count": null,
   "id": "5d0da896-564e-408c-891e-ab88c86a35c7",
   "metadata": {
    "editable": true,
    "slideshow": {
     "slide_type": ""
    },
    "tags": []
   },
   "outputs": [],
   "source": [
    "rag_chain = (\n",
    "    {\"context\": retriever | format_docs, \"question\": RunnablePassthrough()}\n",
    "    | prompt\n",
    "    | llm\n",
    "    | StrOutputParser()\n",
    ")\n",
    "\n",
    "rag_chain.invoke(\"Poderia gerar um novo Texto com base nas informações de contexto sobre o Signo de Aries?\")"
   ]
  }
 ],
 "metadata": {
  "kernelspec": {
   "display_name": "Python 3 (ipykernel)",
   "language": "python",
   "name": "python3"
  },
  "language_info": {
   "codemirror_mode": {
    "name": "ipython",
    "version": 3
   },
   "file_extension": ".py",
   "mimetype": "text/x-python",
   "name": "python",
   "nbconvert_exporter": "python",
   "pygments_lexer": "ipython3",
   "version": "3.9.2"
  }
 },
 "nbformat": 4,
 "nbformat_minor": 5
}
